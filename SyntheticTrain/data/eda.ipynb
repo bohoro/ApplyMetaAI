{
 "cells": [
  {
   "attachments": {},
   "cell_type": "markdown",
   "metadata": {},
   "source": [
    "# EDA gpt-2-output-dataset\n",
    "\n",
    "Load some samples...\n"
   ]
  },
  {
   "cell_type": "code",
   "execution_count": 10,
   "metadata": {},
   "outputs": [
    {
     "name": "stdout",
     "output_type": "stream",
     "text": [
      "Loaded (250000, 4) fake small samples\n",
      "Loaded (250000, 4) fake large samples\n",
      "Loaded (250000, 4) real samples\n"
     ]
    }
   ],
   "source": [
    "import pandas as pd\n",
    "from IPython.display import display\n",
    "\n",
    "# load the json file named large-762M-k40.train.jsonl into a pandas dataframe\n",
    "fake_large = pd.read_json('large-762M-k40.train.jsonl', lines=True)\n",
    "\n",
    "# load the json file named small-117M.train.jsonl into a pandas dataframe\n",
    "fake_small = pd.read_json('small-117M.train.jsonl', lines=True)\n",
    "\n",
    "# load the json file named webtext.train.jsonl into a pandas dataframe\n",
    "real = pd.read_json('webtext.train.jsonl', lines=True)\n",
    "\n",
    "print(f\"Loaded {fake_small.shape} fake small samples\")\n",
    "print(f\"Loaded {fake_large.shape} fake large samples\")\n",
    "print(f\"Loaded {real.shape} real samples\")"
   ]
  },
  {
   "attachments": {},
   "cell_type": "markdown",
   "metadata": {},
   "source": [
    "### Look at the test length distributions"
   ]
  },
  {
   "cell_type": "code",
   "execution_count": 13,
   "metadata": {},
   "outputs": [
    {
     "name": "stdout",
     "output_type": "stream",
     "text": [
      "Fake small samples lenghts:\n"
     ]
    },
    {
     "data": {
      "text/plain": [
       "count    250000.000000\n",
       "mean        683.446612\n",
       "std         376.414341\n",
       "min           0.000000\n",
       "25%         310.000000\n",
       "50%         874.000000\n",
       "75%        1024.000000\n",
       "max        1112.000000\n",
       "Name: length, dtype: float64"
      ]
     },
     "execution_count": 13,
     "metadata": {},
     "output_type": "execute_result"
    }
   ],
   "source": [
    "print(\"Fake small samples lenghts:\")\n",
    "fake_small['length'].describe()"
   ]
  },
  {
   "cell_type": "code",
   "execution_count": 15,
   "metadata": {},
   "outputs": [
    {
     "name": "stdout",
     "output_type": "stream",
     "text": [
      "Real samples lenghts:\n"
     ]
    },
    {
     "data": {
      "text/plain": [
       "count    250000.000000\n",
       "mean        585.305060\n",
       "std         356.171653\n",
       "min          32.000000\n",
       "25%         249.000000\n",
       "50%         552.000000\n",
       "75%        1024.000000\n",
       "max        1024.000000\n",
       "Name: length, dtype: float64"
      ]
     },
     "execution_count": 15,
     "metadata": {},
     "output_type": "execute_result"
    }
   ],
   "source": [
    "print(\"Fake large samples lenghts:\")\n",
    "fake_large['length'].describe()"
   ]
  },
  {
   "cell_type": "code",
   "execution_count": 16,
   "metadata": {},
   "outputs": [
    {
     "name": "stdout",
     "output_type": "stream",
     "text": [
      "Real samples lenghts:\n"
     ]
    },
    {
     "data": {
      "text/plain": [
       "count    250000.000000\n",
       "mean        585.305060\n",
       "std         356.171653\n",
       "min          32.000000\n",
       "25%         249.000000\n",
       "50%         552.000000\n",
       "75%        1024.000000\n",
       "max        1024.000000\n",
       "Name: length, dtype: float64"
      ]
     },
     "execution_count": 16,
     "metadata": {},
     "output_type": "execute_result"
    }
   ],
   "source": [
    "print(\"Real samples lenghts:\")\n",
    "real['length'].describe()"
   ]
  },
  {
   "attachments": {},
   "cell_type": "markdown",
   "metadata": {},
   "source": [
    "### Look at some raw data"
   ]
  },
  {
   "cell_type": "code",
   "execution_count": 5,
   "metadata": {},
   "outputs": [
    {
     "data": {
      "text/html": [
       "<style type=\"text/css\">\n",
       "#T_a1396_row0_col1, #T_a1396_row1_col1, #T_a1396_row2_col1 {\n",
       "  text-align: left;\n",
       "  width: 800px;\n",
       "}\n",
       "</style>\n",
       "<table id=\"T_a1396\">\n",
       "  <thead>\n",
       "    <tr>\n",
       "      <th class=\"blank level0\" >&nbsp;</th>\n",
       "      <th id=\"T_a1396_level0_col0\" class=\"col_heading level0 col0\" >id</th>\n",
       "      <th id=\"T_a1396_level0_col1\" class=\"col_heading level0 col1\" >text</th>\n",
       "      <th id=\"T_a1396_level0_col2\" class=\"col_heading level0 col2\" >length</th>\n",
       "      <th id=\"T_a1396_level0_col3\" class=\"col_heading level0 col3\" >ended</th>\n",
       "    </tr>\n",
       "  </thead>\n",
       "  <tbody>\n",
       "    <tr>\n",
       "      <th id=\"T_a1396_level0_row0\" class=\"row_heading level0 row0\" >0</th>\n",
       "      <td id=\"T_a1396_row0_col0\" class=\"data row0 col0\" >1</td>\n",
       "      <td id=\"T_a1396_row0_col1\" class=\"data row0 col1\" >Gang rape in Uttar Pradesh is a serious crime but we have been giving our police a free hand to fight and handle the case,\" said Union minister Arun Jaitley.\n",
       "\n",
       "\"We will not be using any coercive tactics, just let them (prosecutors) investigate and the evidence get found,\" he said at a press meet in Lucknow.\n",
       "\n",
       "The rape case came to light after a video was circulated on social media showing the young woman, who is a student of Patna University, being gang raped by her two male partners in a moving train on railway tracks in Patna.\n",
       "\n",
       "\"We have requested the police to take over the case. We request the accused persons to come to us and the accused should be put behind bars. We will file criminal proceedings against them and if there are enough evidences and witnesses to prosecute them so be it,\" Jaitley said.\n",
       "\n",
       "Earlier, after two men were arrested for allegedly raping an 18-year-old girl, BJP state president Satish Upadhyay said it's unacceptable in the country when men can rape their young girlfriends.\n",
       "\n",
       "UP chief minister Yogi Adityanath also expressed his solidarity with the girl, saying the state government is working for her.\n",
       "\n",
       "\"We have already made arrangements for the girl's medical facility and we have also ordered forensic examination of her body,\" UP health minister Uma Bharti told PTI in Lucknow.\n",
       "\n",
       "\"It is unacceptable in the country when men can rape their young girlfriends.\" UP chief minister incharge Yogi Adityanath on rape case — PTI (@PTI_news) February 15, 2017\n",
       "\n",
       "\n",
       "\"I am really with the girl because I am sad. I told her that my government was with her and I have been there for her during all the incident. My government is with her and we will not allow any thing to happen to her.\"\n",
       "\n",
       "Jaitley, who is on a day-long visit to Assam, said the country cannot afford to be plagued by such a crime. However, UP Chief Minister Yogi Adityanath had said last month that there are no instances of rape in the country and UP stands by the allegations. There have been more than 600 incidents of rape in the country in the last year-and-a-half, mostly in Uttar Pradesh, he had said.\n",
       "\n",
       "\"The crime of rape in our country is not just a social and political issue. It is an economic one too and we cannot afford to be plagued by such an attack,\" said UP chief minister Yogi Adityanath.\n",
       "\n",
       "He earlier told India Today that the rape case would be solved if the assailants' lives are saved. \"Whatever is being claimed and said has nothing to do with the issue of the rape and the family of the deceased has had enough of that. We understand that there are many women in a state in which so many rapes were committed, many of them are minors,\" he said.\n",
       "\n",
       "\"If it cannot be treated in the best manner, I don't know what has brought it this far, to this stage,\" said Adityanath.\n",
       "\n",
       "\"There is no doubt that rape is a crime and we should be concerned about it. Whatever is in question here is a human rights violation that must be considered,\" he said.</td>\n",
       "      <td id=\"T_a1396_row0_col2\" class=\"data row0 col2\" >683</td>\n",
       "      <td id=\"T_a1396_row0_col3\" class=\"data row0 col3\" >True</td>\n",
       "    </tr>\n",
       "    <tr>\n",
       "      <th id=\"T_a1396_level0_row1\" class=\"row_heading level0 row1\" >1</th>\n",
       "      <td id=\"T_a1396_row1_col0\" class=\"data row1 col0\" >2</td>\n",
       "      <td id=\"T_a1396_row1_col1\" class=\"data row1 col1\" >We're just getting a start. We've got two or three more weeks before we go off and launch our campaign and we'll be keeping everyone posted on where we've got the money to be.\n",
       "\n",
       "If it's more of a wait and a lot of updates, then I'm going to do that. If its less of an wait and just an in-depth breakdown of how most of the rewards are actually going to work (no pun intended), then I'll be posting updates every five days. I'd like to make sure we've got all your rewards in some shape or form before we launch, but we wouldn't want to commit to anything unless we knew it could go ahead.\n",
       "\n",
       "As always, we have a full list of rewards and delivery dates on the website, in the Kickstarter FAQ and in this section of the Kickstarter.\n",
       "\n",
       "All rewards are shipped in a padded envelope and are packed together in a special, unique box which we've designed to take full advantage of the storage space of standard letters. It will give you room to store your letter as you deliver, but not too much that it'll be a strain on our courier.\n",
       "\n",
       "A few of the rewards have special packaging too. Most of them will need to be boxed and shipped separately, which will require us working directly with a third party, our postman or courier. This is quite a bit of work, but, in the end, it's worth it as the packages will be more robust than the alternatives we've tried.\n",
       "\n",
       "Thank you for reading this far and we're so, so pleased there is so much backing for this project. We're looking forward to getting started and looking at where we can take the project into the future.\n",
       "\n",
       "As always, thank you,\n",
       "\n",
       "The Pippin Game's Crew\n",
       "\n",
       "Pippin has been in development for close to 5 years and we've been working very closely with a lot of talented people over that time to give it the look and feel of our vision. Here's a list of some of the people who've contributed to the development of this game (and many others) in the last 5 years...\n",
       "\n",
       "David\n",
       "\n",
       "Art Director\n",
       "\n",
       "Miles\n",
       "\n",
       "Programmer\n",
       "\n",
       "Chris\n",
       "\n",
       "Programmer/Designer\n",
       "\n",
       "Pippin has been developed and designed and edited by the Pippin Design & Development team, but is currently being developed by a team at the University of South Australia. Thank you to all of those who've been working to make this possible!\n",
       "\n",
       "Chris\n",
       "\n",
       "Game Designer/Artist\n",
       "\n",
       "Alessandro\n",
       "\n",
       "Illustrator\n",
       "\n",
       "Alessandro\n",
       "\n",
       "Illustrations have been designed by Alessandro and I have produced the artwork.</td>\n",
       "      <td id=\"T_a1396_row1_col2\" class=\"data row1 col2\" >557</td>\n",
       "      <td id=\"T_a1396_row1_col3\" class=\"data row1 col3\" >True</td>\n",
       "    </tr>\n",
       "    <tr>\n",
       "      <th id=\"T_a1396_level0_row2\" class=\"row_heading level0 row2\" >2</th>\n",
       "      <td id=\"T_a1396_row2_col0\" class=\"data row2 col0\" >3</td>\n",
       "      <td id=\"T_a1396_row2_col1\" class=\"data row2 col1\" >If you are a member of Congress, you should not be in this situation at all. You were elected to represent your constituents because your values and your commitment to social justice have helped to keep a critical portion of America together against a president who is not only unqualified but actively hostile to it. You are not representative of the Republican Party, although you claim otherwise. You were elected to represent a diverse body of Americans. Your constituents believe that you represent them. They trust you. They are not going to trust your government. In the months and years ahead, they will insist that you stand up to President Trump, even if his actions in office have proven otherwise. But that will take courage on their part. For now, you have to choose. The choice you face is clear. You must choose one party over the other. To be clear, neither of them offer you any reason to be afraid.\"\n",
       "\n",
       "I'm not sure whether this is the official position of the Democratic Party, but they're right when they claim that Trump's election would have been an abject catastrophe for the Democratic Party because he has \"shown that he is unqualified and unfriendly toward women.\" And while they're correct that they don't seem to understand that in a democratic republic like ours, candidates and government employees are elected by elections and not by popularity contests with voters, which is why the electoral college actually does a pretty good job of electing presidents.\n",
       "\n",
       "What they should be saying, instead, is that Trump's election was a disaster for their party. Why? Because the Democratic Party has failed to appeal to white Americans, the voters that Trump won. The party's presidential candidates failed to make common cause with white conservatives, and its presidential nominee refused to do that either. The party's presidential nominee did not reach out to women or minorities or immigrants or people of color. He did not appeal to the common ground they need. Trump, in other words, is not \"unqualified.\" He is a dangerous idiot, and the Democrats need to distance themselves from him in order to be more appealing to Republicans.\n",
       "\n",
       "Trump's victory in November has brought with it a sense that the Democrats, and the Democratic Party in particular, have failed its core voters. While some of Trump's supporters may believe that this was simply because they felt cheated by the system and won't accept the results, there's a good deal more to it than that. One of the first things you realize when you vote for an unpopular president is that the system has screwed you. The electoral college gave him the victory. The Democrats, by contrast, managed to do a reasonably decent job of turning out their electoral base. So, for better or worse, they weren't completely at fault.\n",
       "\n",
       "So, in my opinion, the Democrats' failure to appeal to white Americans was a mistake, whether they realize it or not. In particular, it was a mistake on three levels. First, that the Democrats thought that by catering to white voters they were, somehow, going to change the fundamental equation of our nation—the United States as a nation for people of color, not white people. They just don't get it.\n",
       "\n",
       "Secondly, they thought that white American racists wanted an alternative to Trump. The fact is there's not that many racist white people in America. In 2016, the American average is 4.7 racists per 10,000 people. That's the least racist country in the world. The problem of racism doesn't have to be limited to white people in this country. Racism exists among any segment of the population. By catering to white voters, the Democratic Party undermined its most important constituency.\n",
       "\n",
       "Lastly, the Democrats realized that their appeal was limited to those white voters, so they didn't try to appeal to other groups of whites in this country, like Latinos and African Americans, as well. When Latinos and African Americans vote for Democrats, they do so in droves, showing that even Democrats don't live in monoliths any more.\n",
       "\n",
       "So, to summarize: the Democratic Party's 2016 election strategy was to appeal to white voters to become Democrats. As a result, Trump won the national popular vote more than 4 million more times than Clinton. But the party didn't come anywhere close to winning white voters. This is part of the reason that Clinton lost the election, a reason that I've written about here and here.\n",
       "\n",
       "As the Democrats' new slogan proclaims, what's the best way to fight back against a president who is a bigot, a liar, a misogynist, and an Islamophobe? By appealing to white voters. And they've done a pretty decent job of it so far.\n",
       "\n",
       "But in a democracy, that doesn't necessarily mean that the Democratic Party must win over people who support or are affiliated with white nationalists. But that doesn't mean that the Democratic Party can't fight for those who are non-white. That won't hurt the Democrats in any meaningful way, and for their part, the Republicans must not adopt a racially ambiguous \"</td>\n",
       "      <td id=\"T_a1396_row2_col2\" class=\"data row2 col2\" >1024</td>\n",
       "      <td id=\"T_a1396_row2_col3\" class=\"data row2 col3\" >False</td>\n",
       "    </tr>\n",
       "  </tbody>\n",
       "</table>\n"
      ],
      "text/plain": [
       "<pandas.io.formats.style.Styler at 0x7f08e3626d30>"
      ]
     },
     "metadata": {},
     "output_type": "display_data"
    }
   ],
   "source": [
    "# diplays the first 3 rows of the fake dataframe width of 800 pixels  \n",
    "display(fake.head(3).style.set_properties(**{'text-align': 'left'}, subset=['text']).set_properties(**{'width': '800px'}, subset=['text']))"
   ]
  },
  {
   "cell_type": "code",
   "execution_count": 7,
   "metadata": {},
   "outputs": [
    {
     "data": {
      "text/html": [
       "<style type=\"text/css\">\n",
       "#T_448c6_row0_col3, #T_448c6_row1_col3, #T_448c6_row2_col3 {\n",
       "  text-align: left;\n",
       "  width: 800px;\n",
       "}\n",
       "</style>\n",
       "<table id=\"T_448c6\">\n",
       "  <thead>\n",
       "    <tr>\n",
       "      <th class=\"blank level0\" >&nbsp;</th>\n",
       "      <th id=\"T_448c6_level0_col0\" class=\"col_heading level0 col0\" >id</th>\n",
       "      <th id=\"T_448c6_level0_col1\" class=\"col_heading level0 col1\" >ended</th>\n",
       "      <th id=\"T_448c6_level0_col2\" class=\"col_heading level0 col2\" >length</th>\n",
       "      <th id=\"T_448c6_level0_col3\" class=\"col_heading level0 col3\" >text</th>\n",
       "    </tr>\n",
       "  </thead>\n",
       "  <tbody>\n",
       "    <tr>\n",
       "      <th id=\"T_448c6_level0_row0\" class=\"row_heading level0 row0\" >0</th>\n",
       "      <td id=\"T_448c6_row0_col0\" class=\"data row0 col0\" >0</td>\n",
       "      <td id=\"T_448c6_row0_col1\" class=\"data row0 col1\" >True</td>\n",
       "      <td id=\"T_448c6_row0_col2\" class=\"data row0 col2\" >138</td>\n",
       "      <td id=\"T_448c6_row0_col3\" class=\"data row0 col3\" >These girlfriends deserves a special mention for going that extra mile, hopefully doesn't set too many guys off on the path towards outrageous demands.\n",
       "\n",
       "1. She knows the severity of man-flu\n",
       "\n",
       "2. All fun and games is all good\n",
       "\n",
       "3. A voucher that says 'I love you'\n",
       "\n",
       "4. When arguments don't drag on forever.\n",
       "\n",
       "5. Providing everything he needs.\n",
       "\n",
       "6. Very understanding\n",
       "\n",
       "7. As awesome a gesture as this is, we are worried about this man's cooking skills.\n",
       "\n",
       "8. Nice cake\n",
       "\n",
       "8. Fair bargaining\n",
       "\n",
       "9. Excellent gift choice\n",
       "\n",
       "10. Very thoughtful</td>\n",
       "    </tr>\n",
       "    <tr>\n",
       "      <th id=\"T_448c6_level0_row1\" class=\"row_heading level0 row1\" >1</th>\n",
       "      <td id=\"T_448c6_row1_col0\" class=\"data row1 col0\" >1</td>\n",
       "      <td id=\"T_448c6_row1_col1\" class=\"data row1 col1\" >True</td>\n",
       "      <td id=\"T_448c6_row1_col2\" class=\"data row1 col2\" >66</td>\n",
       "      <td id=\"T_448c6_row1_col3\" class=\"data row1 col3\" >LeSean McCoy going through warmups with first team offense. To my eye, does not look close to 100 percent when cutting and exploding.\n",
       "\n",
       "ABOUT COOKIES\n",
       "\n",
       "To help make this website better, to improve and personalize your experience and for advertising purposes, are you happy to accept cookies and other technologies?</td>\n",
       "    </tr>\n",
       "    <tr>\n",
       "      <th id=\"T_448c6_level0_row2\" class=\"row_heading level0 row2\" >2</th>\n",
       "      <td id=\"T_448c6_row2_col0\" class=\"data row2 col0\" >2</td>\n",
       "      <td id=\"T_448c6_row2_col1\" class=\"data row2 col1\" >False</td>\n",
       "      <td id=\"T_448c6_row2_col2\" class=\"data row2 col2\" >1024</td>\n",
       "      <td id=\"T_448c6_row2_col3\" class=\"data row2 col3\" >Tom Curran has been called up to England's Ashes squad. The 22-year-old Surrey all-rounder will fly out to Australia in the next 24 hours as a replacement for Steven Finn, after the Middlesex fast bowler was ruled out of the rest of the tour with a torn left knee cartilage.\n",
       "\n",
       "Curran is yet to play a Test match for England. However, he broke into the white-ball side during the 2017 season, making his debut in Twenty20 and one-day international cricket, and impressed the England management with his attitude.\n",
       "\n",
       "Coach Trevor Bayliss is known to be a fan, and so Curran has been preferred to the likes of Liam Plunkett, Tom Helm, George Garton and Mark Wood as England seek to bolster their ailing pace-bowling reserves ahead of the toughest series of them all.\n",
       "\n",
       "Shape Created with Sketch. England Ashes squad Show all 17 left Created with Sketch. right Created with Sketch. Shape Created with Sketch. England Ashes squad 1/17 Captain: Joe Root England's Mr Dependable will lead his side into an Ashes series for the first time, and while he has the experience of the series wins in 2013 and 2015, he also has the scars of the last trip Down Under. Getty 2/17 Batsman: Alastair Cook The former captain will be crucial to England's hopes, with the Essex opener needing to find the same resilient form that he displayed in Australia in the 2010/11 series. Getty 3/17 Batsman: Mark Stoneman Cook's likely opening partner will be Mark Stoneman after selectors decided to stick with him despite a nervous series against the West Indies. Getty 4/17 Batsman/spinner: Dawid Malan Malan showed glimpses of promise this summer and can also offer an option with the ball, but he is untested on the hard pitches of Australia and could be found out. Getty 5/17 Batsman: Gary Ballance Ballance is handed yet another chance to salvage his England career as the selectors hope he will eventually come good for their unyielding faith. Getty 6/17 Batsman: James Vince Vince is the surprise inclusion in the squad, having done little of note in county cricket since being dropped in 2016. Getty 7/17 Batsman/spinner: Moeen Ali Moeen Ali could easily go on to be man of the series given his ability to deliver fireworks with bat and ball. He may disagree, but he is undoubtedly England's front line spinner. Getty 8/17 Batsman/spinner: Mason Crane Crane is yet to make his full debut, though took a wonderful catch against the West Indies as a substitute fielder and will head to Australia as a back-up leg-break spiner bowler. Getty 9/17 Wicketkeeper: Ben Foakes Foakes will head to Australia as a deputy for first-choice wicketkeeper Jonny Bairstow. Getty 10/17 Wicketkeeper: Jonny Bairstow Another man who will need to produce runs to give England a chance of victory, with his ability in the mid-order giving the tourists a bite throughout the line-up. Getty 11/17 All-rounder: Ben Stokes Stokes is named in the side despite falling under a huge cloud after his arrest on a late night out in Bristol. His future as vice-captain looks very much in doubt. Getty 12/17 All-rounder: Chris Woakes Woakes will provide rest for the front-line bowlers and will also prove handy with the bat. Getty 13/17 Bowler: Stuart Broad Broad has long set his sights on this Ashes tour as he hopes to make up for the 2013/14 humiliation, and his opening partnership with James Anderson will set the tone for how England will cope out in Australia. Getty 14/17 Bowler: James Anderson England's leading Test wicket-taker will be wrapped in cotton wool until the first Test, though he will have to deliver the goods in a country where swing can be hard to find. Getty 15/17 Bowler: Jake Ball Ball could prove to be England's joke in the pack given his extra pace and bounce. Think Chris Tremlett a la 2010/11. It's just a case of keeping him fit. Getty 16/17 Bowler: Craig Overton The third uncapped member of the squad, Overton has been rewarded for a solid season with Somerset. Getty 17/17 Bowler: Tom Curran Called up by England to replace Steven Finn, who had previously been called up due to Ben Stokes' uncertainty. Getty 1/17 Captain: Joe Root England's Mr Dependable will lead his side into an Ashes series for the first time, and while he has the experience of the series wins in 2013 and 2015, he also has the scars of the last trip Down Under. Getty 2/17 Batsman: Alastair Cook The former captain will be crucial to England's hopes, with the</td>\n",
       "    </tr>\n",
       "  </tbody>\n",
       "</table>\n"
      ],
      "text/plain": [
       "<pandas.io.formats.style.Styler at 0x7f08e3626b80>"
      ]
     },
     "metadata": {},
     "output_type": "display_data"
    }
   ],
   "source": [
    "display(real.head(3).style.set_properties(**{'text-align': 'left'}, subset=['text']).set_properties(**{'width': '800px'}, subset=['text']))"
   ]
  }
 ],
 "metadata": {
  "kernelspec": {
   "display_name": "amai",
   "language": "python",
   "name": "python3"
  },
  "language_info": {
   "codemirror_mode": {
    "name": "ipython",
    "version": 3
   },
   "file_extension": ".py",
   "mimetype": "text/x-python",
   "name": "python",
   "nbconvert_exporter": "python",
   "pygments_lexer": "ipython3",
   "version": "3.8.15"
  },
  "orig_nbformat": 4,
  "vscode": {
   "interpreter": {
    "hash": "fa5690457316362ac3f53ad82e0c7a6f1474a916f7404c71c05e8761465f8515"
   }
  }
 },
 "nbformat": 4,
 "nbformat_minor": 2
}
